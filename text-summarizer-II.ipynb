{
 "cells": [
  {
   "cell_type": "code",
   "execution_count": 28,
   "id": "ca703bb5",
   "metadata": {},
   "outputs": [
    {
     "name": "stdout",
     "output_type": "stream",
     "text": [
      "NLTK includes a FreqDist class for calculating word frequencies. I used it directly on the list of words, eliminating the need to manually cycle through each word and update the frequency distribution. To simplify the code, I used list comprehension instead of a standard for loop to calculate sentence scores and added randomness into the selection process of the top sentences.\n"
     ]
    }
   ],
   "source": [
    "import random\n",
    "from nltk.corpus import stopwords\n",
    "from nltk.tokenize import word_tokenize, sent_tokenize\n",
    "from nltk.probability import FreqDist\n",
    "\n",
    "def text_summarizer(text, num_sentences=3):\n",
    "    # Text into sentences\n",
    "    sentences = sent_tokenize(text)\n",
    "\n",
    "    # Text into words\n",
    "    words = word_tokenize(text.lower())\n",
    "\n",
    "    # Removing stop words\n",
    "    stop_words = set(stopwords.words(\"english\"))\n",
    "    filtered_words = [word for word in words if word.casefold() not in stop_words]\n",
    "\n",
    "    # Calculate word frequencies\n",
    "    fdist = FreqDist(filtered_words)\n",
    "\n",
    "    # Assign scores to sentences based on word frequencies\n",
    "    sentence_scores = [sum(fdist[word] for word in word_tokenize(sentence.lower()) if word in fdist)\n",
    "                       for sentence in sentences]\n",
    "\n",
    "    # Create a list of tuples containing sentence index and score\n",
    "    sentence_scores = list(enumerate(sentence_scores))\n",
    "\n",
    "    # Sort sentences by scores in descending order\n",
    "    sorted_sentences = sorted(sentence_scores, key=lambda x: x[1], reverse=True)\n",
    "\n",
    "    # Randomly select the top `num_sentences` sentences for the summary\n",
    "    random_sentences = random.sample(sorted_sentences, num_sentences)\n",
    "\n",
    "    # Sort the randomly selected sentences based on their original order in the text\n",
    "    summary_sentences = sorted(random_sentences, key=lambda x: x[0])\n",
    "\n",
    "    # Create the summary\n",
    "    summary = ' '.join([sentences[i] for i, _ in summary_sentences])\n",
    "\n",
    "    return summary\n",
    "\n",
    "# Example usage\n",
    "text = \"\"\"\n",
    "Instead of importing the whole nltk module, I simply imported the essential submodules (stopwords, word_tokenize, sent_tokenize, and FreqDist), which reduced unnecessary memory usage and improved efficiency.\n",
    "\n",
    "To make the code cleaner and easier to read, I deleted self-explanatory comments.\n",
    "\n",
    "NLTK includes a FreqDist class for calculating word frequencies. I used it directly on the list of words, eliminating the need to manually cycle through each word and update the frequency distribution.\n",
    "\n",
    "To simplify the code, I used list comprehension instead of a standard for loop to calculate sentence scores and added randomness into the selection process of the top sentences.\n",
    "\"\"\"\n",
    "\n",
    "summary = text_summarizer(text)\n",
    "print(summary)"
   ]
  }
 ],
 "metadata": {
  "kernelspec": {
   "display_name": "Python 3 (ipykernel)",
   "language": "python",
   "name": "python3"
  },
  "language_info": {
   "codemirror_mode": {
    "name": "ipython",
    "version": 3
   },
   "file_extension": ".py",
   "mimetype": "text/x-python",
   "name": "python",
   "nbconvert_exporter": "python",
   "pygments_lexer": "ipython3",
   "version": "3.9.16"
  }
 },
 "nbformat": 4,
 "nbformat_minor": 5
}
